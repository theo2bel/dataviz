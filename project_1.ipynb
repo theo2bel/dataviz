{
 "cells": [
  {
   "cell_type": "code",
   "execution_count": null,
   "id": "b8bbb67b-9a1a-4f47-8e5a-e1f2464b8509",
   "metadata": {
    "tags": []
   },
   "outputs": [],
   "source": [
    "import plotly.express as px\n",
    "import plotly\n",
    "plotly.offline.init_notebook_mode()"
   ]
  },
  {
   "cell_type": "code",
   "execution_count": null,
   "id": "9e532947-27a2-440d-8d33-1f575bc797d2",
   "metadata": {
    "tags": []
   },
   "outputs": [],
   "source": [
    "import pandas as pd\n",
    "import os\n",
    "\n",
    "df=pd.read_csv('/home/theo2bel/Downloads/archive(3)/crash_data_queensland_1_crash_locations.csv')"
   ]
  },
  {
   "cell_type": "markdown",
   "id": "d7d3d3b6-b15a-4079-98db-09e2db64c360",
   "metadata": {
    "jp-MarkdownHeadingCollapsed": true,
    "tags": []
   },
   "source": [
    "# First visualization"
   ]
  },
  {
   "cell_type": "code",
   "execution_count": null,
   "id": "699d3967-e9c9-4480-9bba-7aacedf747c1",
   "metadata": {
    "tags": []
   },
   "outputs": [],
   "source": [
    "fig=px.histogram(df, x=\"Crash_Day_Of_Week\")\n",
    "fig.update_layout(xaxis={'categoryorder':'total descending'})"
   ]
  },
  {
   "cell_type": "markdown",
   "id": "0ef47e5d-cbdc-43ea-989b-3bddefa5b71f",
   "metadata": {},
   "source": [
    "We see that most of the crashes are at the end of the week : people are often more tired the last days of the week, so they are more susceptible to have a crash"
   ]
  },
  {
   "cell_type": "markdown",
   "id": "62034f94-9c62-481b-890a-3dc402489ac5",
   "metadata": {
    "jp-MarkdownHeadingCollapsed": true,
    "tags": []
   },
   "source": [
    "# Second visualization"
   ]
  },
  {
   "cell_type": "code",
   "execution_count": null,
   "id": "ec0ba6e1-0e11-4c6f-a977-a79e5027c030",
   "metadata": {
    "tags": []
   },
   "outputs": [],
   "source": [
    "fig=px.histogram(df, x=\"Crash_Nature\")\n",
    "fig.update_layout(xaxis={'categoryorder':'total descending'})"
   ]
  },
  {
   "cell_type": "markdown",
   "id": "2b6b6679-0ad0-4c36-b698-d359d3abc654",
   "metadata": {},
   "source": [
    "We see that most of the crashes are angle, rear_end and hit object. Most of the crashes are angle and rear-end : we can deduce that the sensors at the rear of a car are more sensitive than those at the front or lateral. Also cars hitting objects are common because they are not vehicles, so we do not pay attention to them as much as other vehicles when we are driving."
   ]
  },
  {
   "cell_type": "markdown",
   "id": "f83dcd30-c5e5-4109-995e-acef5b472e9a",
   "metadata": {
    "jp-MarkdownHeadingCollapsed": true,
    "tags": []
   },
   "source": [
    "# Third visualization"
   ]
  },
  {
   "cell_type": "code",
   "execution_count": null,
   "id": "4befbdce-ad02-4bed-9597-180d5f6a469d",
   "metadata": {
    "tags": []
   },
   "outputs": [],
   "source": [
    "fig=px.histogram(df, x=\"Crash_Severity\")\n",
    "fig.update_layout(xaxis={'categoryorder':'total descending'})"
   ]
  },
  {
   "cell_type": "markdown",
   "id": "08741bec-3671-4fdd-a4e0-b16007c67f60",
   "metadata": {},
   "source": [
    "What we can deduce here is that when there are most of the time injured people when there have been property damage.\\\n",
    "Also, when there are injuries, they are most of the time quite serious : there are more hospitalisations and medical treatments than minor injuries."
   ]
  },
  {
   "cell_type": "markdown",
   "id": "c2d6e5fe-5aba-4db2-ae70-1b3dbc4cc1ca",
   "metadata": {
    "tags": []
   },
   "source": [
    "# Fourth visualization"
   ]
  },
  {
   "cell_type": "code",
   "execution_count": null,
   "id": "01f64720-2463-405e-8f7c-c4ff92f60054",
   "metadata": {
    "tags": []
   },
   "outputs": [],
   "source": [
    "import plotly.express as px\n",
    "\n",
    "df_random_sample = df.sample(frac=0.01, random_state=42) #we take 1 percent of the crashes because otherwise the file is too large\n",
    "\n",
    "severity_order = ['Property damage only', 'Minor injury', 'Medical treatment', 'Hospitalisation', 'Fatal']\n",
    "df_random_sample['Severity_Color'] = df_random_sample['Crash_Severity'].astype('category').cat.reorder_categories(severity_order, ordered=True).cat.codes\n",
    "\n",
    "# We make circles for each crash, their color depend on the severity of the crash (cf legend)\n",
    "fig = px.scatter_mapbox(df_random_sample, \n",
    "                        lat='Crash_Latitude', \n",
    "                        lon='Crash_Longitude', \n",
    "                        color='Severity_Color',\n",
    "                        color_continuous_scale='Viridis',\n",
    "                        size_max=15,\n",
    "                        opacity=0.7,\n",
    "                        hover_name='Crash_Severity',\n",
    "                        title='Crash Severity Map',\n",
    "                        mapbox_style='carto-positron',\n",
    "                        zoom=3)\n",
    "\n",
    "fig.update_layout(coloraxis_colorbar=dict(tickvals=list(range(len(severity_order))), ticktext=severity_order),\n",
    "                  mapbox=dict(accesstoken='your_mapbox_token'))\n",
    "\n",
    "fig.show()"
   ]
  },
  {
   "cell_type": "markdown",
   "id": "ddccb717-91df-4f78-95bc-6c4343538f7f",
   "metadata": {},
   "source": [
    "This map shows that most of the crashes in queensland are on the east coast and more in the cities (Brisbane, Toowoomba)"
   ]
  },
  {
   "cell_type": "markdown",
   "id": "df74e11e-4046-4524-ba46-2b95b216f1d8",
   "metadata": {
    "jp-MarkdownHeadingCollapsed": true,
    "tags": []
   },
   "source": [
    "# Fifth visualization"
   ]
  },
  {
   "cell_type": "code",
   "execution_count": null,
   "id": "9aff65df-0310-4dd0-b1e4-c51ef6ab91d3",
   "metadata": {
    "tags": []
   },
   "outputs": [],
   "source": [
    "import plotly.express as px\n",
    "\n",
    "# We group by year and severity,and count\n",
    "df_grouped = df.groupby(['Crash_Year', 'Crash_Severity']).size().reset_index(name='Count')\n",
    "\n",
    "# We create a line chart of crash counts by year and severity\n",
    "fig = px.line(df_grouped, x=\"Crash_Year\", y=\"Count\", color=\"Crash_Severity\", \n",
    "              title=\"Crash Counts by Year and Severity\",\n",
    "              labels={\"Crash_Year\": \"Year\", \"Count\": \"Number of Crashes\", \"Crash_Severity\": \"Severity\"})\n",
    "fig.update_layout(xaxis={'categoryorder': 'category ascending'})\n",
    "\n",
    "fig.show()\n"
   ]
  },
  {
   "cell_type": "markdown",
   "id": "63a854fc-03f9-4092-a9f4-104c94a41267",
   "metadata": {},
   "source": [
    "The number of crashes by severity is approximately constant in the time, but hospitalisations are sometimes more present than medical treatments only, and sometimes the opposite"
   ]
  },
  {
   "cell_type": "markdown",
   "id": "e2d1c8ce-88ed-4430-b323-f71cb7627163",
   "metadata": {
    "tags": []
   },
   "source": [
    "# Sixth visualization"
   ]
  },
  {
   "cell_type": "code",
   "execution_count": null,
   "id": "3ed6b0e0-2011-490d-b875-3eb5f2f20d24",
   "metadata": {
    "tags": []
   },
   "outputs": [],
   "source": [
    "import plotly.express as px\n",
    "\n",
    "\n",
    "# We group by Crash_Atmospheric_Condition and Crash_Severity and calculate the count\n",
    "df_grouped = df.groupby(['Crash_Atmospheric_Condition', 'Crash_Severity']).size().reset_index(name='Count')\n",
    "\n",
    "# We calculate the total count for each \"Crash_Atmospheric_Condition\"\n",
    "df_grouped['Total_Count'] = df_grouped.groupby('Crash_Atmospheric_Condition')['Count'].transform('sum')\n",
    "\n",
    "# We calculate the proportion of each severity\n",
    "df_grouped['Proportion'] = df_grouped['Count'] / df_grouped['Total_Count']\n",
    "\n",
    "# We create a bar plot\n",
    "fig = px.bar(df_grouped, \n",
    "             x=\"Crash_Atmospheric_Condition\", \n",
    "             y=\"Proportion\", \n",
    "             color=\"Crash_Severity\",\n",
    "             title=\"Proportion of Crash Severity by Atmospheric Condition\",\n",
    "             labels={\"Crash_Atmospheric_Condition\": \"Atmospheric Condition\", \"Proportion\": \"Proportion\", \"Crash_Severity\": \"Severity\"},\n",
    "             barmode=\"stack\")\n",
    "fig.show()"
   ]
  },
  {
   "cell_type": "markdown",
   "id": "fac678af-3233-47bc-8eb8-f42131c1652f",
   "metadata": {},
   "source": [
    "This graph shows the proportion of each crash severity depending on the different atmospheric conditions.\\\n",
    "We can see that there are more fatal accidents when there is fog and smoke than when the time is clear. Moreover, hospitalisations are also more frequent for those cases."
   ]
  }
 ],
 "metadata": {
  "kernelspec": {
   "display_name": "Python 3 (ipykernel)",
   "language": "python",
   "name": "python3"
  },
  "language_info": {
   "codemirror_mode": {
    "name": "ipython",
    "version": 3
   },
   "file_extension": ".py",
   "mimetype": "text/x-python",
   "name": "python",
   "nbconvert_exporter": "python",
   "pygments_lexer": "ipython3",
   "version": "3.8.18"
  }
 },
 "nbformat": 4,
 "nbformat_minor": 5
}
