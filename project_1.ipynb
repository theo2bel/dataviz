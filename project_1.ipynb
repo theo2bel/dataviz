{
 "cells": [
  {
   "cell_type": "code",
   "execution_count": null,
   "id": "9e532947-27a2-440d-8d33-1f575bc797d2",
   "metadata": {},
   "outputs": [],
   "source": [
    "import pandas as pd\n",
    "import os\n",
    "\n",
    "# Get the current working directory\n",
    "current_directory = \"/home/theo2bel/Downloads/archive(3)\"\n",
    "\n",
    "# List all files in the current directory\n",
    "files = os.listdir(current_directory)\n",
    "\n",
    "# Filter only CSV files\n",
    "csv_files = [file for file in files if file.endswith(\".csv\")]\n",
    "\n",
    "# Read each CSV file into a Pandas DataFrame\n",
    "for csv_file in csv_files:\n",
    "    file_path = os.path.join(current_directory, csv_file)\n",
    "    df = pd.read_csv(file_path)"
   ]
  },
  {
   "cell_type": "code",
   "execution_count": null,
   "id": "699d3967-e9c9-4480-9bba-7aacedf747c1",
   "metadata": {},
   "outputs": [],
   "source": [
    "fig=px.histogram(df, x=\"Crash_Day_Of_Week\")\n",
    "fig.update_layout(xaxis={'categoryorder':'total descending'})"
   ]
  },
  {
   "cell_type": "code",
   "execution_count": null,
   "id": "ec0ba6e1-0e11-4c6f-a977-a79e5027c030",
   "metadata": {},
   "outputs": [],
   "source": [
    "fig=px.histogram(df, x=\"Crash_Nature\")\n",
    "fig.update_layout(xaxis={'categoryorder':'total descending'})"
   ]
  },
  {
   "cell_type": "code",
   "execution_count": null,
   "id": "4befbdce-ad02-4bed-9597-180d5f6a469d",
   "metadata": {},
   "outputs": [],
   "source": [
    "fig=px.histogram(df, x=\"Crash_Severity\")\n",
    "fig.update_layout(xaxis={'categoryorder':'total descending'})"
   ]
  },
  {
   "cell_type": "code",
   "execution_count": null,
   "id": "01f64720-2463-405e-8f7c-c4ff92f60054",
   "metadata": {},
   "outputs": [],
   "source": [
    "import plotly.express as px\n",
    "\n",
    "# Create a new column for color based on Crash_Severity\n",
    "severity_order = ['Property damage only', 'Minor injury', 'Medical treatment', 'Hospitalisation', 'Fatal']\n",
    "df['Severity_Color'] = df['Crash_Severity'].astype('category').cat.reorder_categories(severity_order, ordered=True).cat.codes\n",
    "\n",
    "# Map with circles for each crash\n",
    "fig = px.scatter_mapbox(df, \n",
    "                        lat='Crash_Latitude', \n",
    "                        lon='Crash_Longitude', \n",
    "                        color='Severity_Color',\n",
    "                        color_continuous_scale='Viridis',  # You can use other color scales as well\n",
    "                        size_max=15,  # Adjust the maximum size of circles\n",
    "                        opacity=0.7,\n",
    "                        hover_name='Crash_Severity',\n",
    "                        title='Crash Severity Map',\n",
    "                        mapbox_style='carto-positron',  # You can choose other mapbox styles\n",
    "                        zoom=3)\n",
    "\n",
    "fig.update_layout(coloraxis_colorbar=dict(tickvals=list(range(len(severity_order))), ticktext=severity_order),\n",
    "                  mapbox=dict(accesstoken='your_mapbox_token'))\n",
    "\n",
    "fig.show()\n"
   ]
  },
  {
   "cell_type": "code",
   "execution_count": null,
   "id": "9aff65df-0310-4dd0-b1e4-c51ef6ab91d3",
   "metadata": {},
   "outputs": [],
   "source": [
    "import plotly.express as px\n",
    "\n",
    "# Group by year and severity, calculate count, and reset index\n",
    "df_grouped = df.groupby(['Crash_Year', 'Crash_Severity']).size().reset_index(name='Count')\n",
    "\n",
    "# Create a line chart of crash counts by year and severity\n",
    "fig = px.line(df_grouped, x=\"Crash_Year\", y=\"Count\", color=\"Crash_Severity\", \n",
    "              title=\"Crash Counts by Year and Severity\",\n",
    "              labels={\"Crash_Year\": \"Year\", \"Count\": \"Number of Crashes\", \"Crash_Severity\": \"Severity\"})\n",
    "\n",
    "# Update x-axis category order in ascending order\n",
    "fig.update_layout(xaxis={'categoryorder': 'category ascending'})\n",
    "\n",
    "fig.show()\n"
   ]
  }
 ],
 "metadata": {
  "kernelspec": {
   "display_name": "Python 3 (ipykernel)",
   "language": "python",
   "name": "python3"
  },
  "language_info": {
   "codemirror_mode": {
    "name": "ipython",
    "version": 3
   },
   "file_extension": ".py",
   "mimetype": "text/x-python",
   "name": "python",
   "nbconvert_exporter": "python",
   "pygments_lexer": "ipython3",
   "version": "3.8.18"
  }
 },
 "nbformat": 4,
 "nbformat_minor": 5
}
